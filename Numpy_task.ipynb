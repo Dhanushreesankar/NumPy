{
 "cells": [
  {
   "cell_type": "code",
   "execution_count": 2,
   "id": "a44cb2f4",
   "metadata": {},
   "outputs": [
    {
     "name": "stdout",
     "output_type": "stream",
     "text": [
      "Mean: 40.0\n",
      "Standard Deviation: 14.142135623730951\n"
     ]
    }
   ],
   "source": [
    "import numpy as np\n",
    "data = np.array([20,30,40,50,60])\n",
    "\n",
    "mean = np.mean(data)\n",
    "std_dev = np.std(data)\n",
    "\n",
    "print(\"Mean:\",mean)\n",
    "print(\"Standard Deviation:\",std_dev)"
   ]
  },
  {
   "cell_type": "code",
   "execution_count": 8,
   "id": "a146a61a",
   "metadata": {},
   "outputs": [
    {
     "name": "stdout",
     "output_type": "stream",
     "text": [
      "Random 5x5 matrix:\n",
      "[[98  2 62 15 74]\n",
      " [15 23 37 47 85]\n",
      " [37 41 26 14 94]\n",
      " [76 12 55 65 65]\n",
      " [48 94 35 18 90]]\n",
      "\n",
      "Minimum values along each row:\n",
      "[ 2 15 14 12 18]\n",
      "\n",
      "Maximum values along each row:\n",
      "[98 85 94 76 94]\n",
      "\n",
      "Minimum values along each column:\n",
      "[15  2 26 14 65]\n",
      "\n",
      "Maximum values along each column:\n",
      "[98 94 62 65 94]\n"
     ]
    }
   ],
   "source": [
    "import numpy as np\n",
    "\n",
    "matrix = np.random.randint(1, 100, size=(5, 5))\n",
    "\n",
    "print(\"Random 5x5 matrix:\")\n",
    "print(matrix)\n",
    "\n",
    "min_row = np.min(matrix, axis=1)\n",
    "max_row = np.max(matrix, axis=1)\n",
    "\n",
    "print(\"\\nMinimum values along each row:\")\n",
    "print(min_row)\n",
    "print(\"\\nMaximum values along each row:\")\n",
    "print(max_row)\n",
    "\n",
    "min_col = np.min(matrix, axis=0)\n",
    "max_col = np.max(matrix, axis=0)\n",
    "\n",
    "print(\"\\nMinimum values along each column:\")\n",
    "print(min_col)\n",
    "print(\"\\nMaximum values along each column:\")\n",
    "print(max_col)\n"
   ]
  },
  {
   "cell_type": "code",
   "execution_count": 11,
   "id": "f7ca4a66",
   "metadata": {},
   "outputs": [
    {
     "name": "stdout",
     "output_type": "stream",
     "text": [
      "Cosine Similarity: 0.6374011242825941\n"
     ]
    }
   ],
   "source": [
    "\n",
    "import numpy as np\n",
    "\n",
    "def cosine(a, b):\n",
    "    dot_product = np.dot(a, b)\n",
    "    a = np.linalg.norm(a)\n",
    "    b = np.linalg.norm(b)\n",
    "    similarity = dot_product / (a * b)\n",
    "    return similarity\n",
    "\n",
    "vector1 = np.array([11, 66, 33])\n",
    "vector2 = np.array([55, 22, 44])\n",
    "\n",
    "print(\"Cosine Similarity:\", cosine(vector1, vector2))\n"
   ]
  },
  {
   "cell_type": "code",
   "execution_count": null,
   "id": "16ff18e9",
   "metadata": {},
   "outputs": [],
   "source": []
  }
 ],
 "metadata": {
  "kernelspec": {
   "display_name": "Python 3 (ipykernel)",
   "language": "python",
   "name": "python3"
  },
  "language_info": {
   "codemirror_mode": {
    "name": "ipython",
    "version": 3
   },
   "file_extension": ".py",
   "mimetype": "text/x-python",
   "name": "python",
   "nbconvert_exporter": "python",
   "pygments_lexer": "ipython3",
   "version": "3.11.5"
  }
 },
 "nbformat": 4,
 "nbformat_minor": 5
}
